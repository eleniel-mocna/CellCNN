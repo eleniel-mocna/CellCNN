{
 "cells": [
  {
   "cell_type": "code",
   "execution_count": 1,
   "source": [
    "import tensorflow as tf\r\n",
    "from tensorflow import keras\r\n",
    "from tensorflow.keras import layers\r\n",
    "import numpy as np"
   ],
   "outputs": [],
   "metadata": {}
  },
  {
   "cell_type": "code",
   "execution_count": 2,
   "source": [
    "\r\n",
    "inputs = keras.Input(shape=(784,), name=\"digits\")\r\n",
    "x1 = layers.Dense(64, activation=\"relu\")(inputs)\r\n",
    "x2 = layers.Dense(64, activation=\"relu\")(x1)\r\n",
    "outputs = layers.Dense(10, name=\"predictions\")(x2)\r\n",
    "model = keras.Model(inputs=inputs, outputs=outputs)\r\n",
    "\r\n",
    "# Instantiate an optimizer.\r\n",
    "optimizer = keras.optimizers.SGD(learning_rate=1e-3)\r\n",
    "# Instantiate a loss function.\r\n",
    "loss_fn = keras.losses.SparseCategoricalCrossentropy(from_logits=True)\r\n"
   ],
   "outputs": [],
   "metadata": {}
  },
  {
   "cell_type": "code",
   "execution_count": 3,
   "source": [
    "\r\n",
    "# Prepare the training dataset.\r\n",
    "batch_size = 64\r\n",
    "(x_train, y_train), (x_test, y_test) = keras.datasets.mnist.load_data()\r\n",
    "x_train = np.reshape(x_train, (-1, 784))\r\n",
    "x_test = np.reshape(x_test, (-1, 784))\r\n",
    "\r\n",
    "# Reserve 10,000 samples for validation.\r\n",
    "x_val = x_train[-10000:]\r\n",
    "y_val = y_train[-10000:]\r\n",
    "x_train = x_train[:-10000]\r\n",
    "y_train = y_train[:-10000]\r\n",
    "\r\n",
    "# Prepare the training dataset.\r\n",
    "train_dataset = tf.data.Dataset.from_tensor_slices((x_train, y_train))\r\n",
    "train_dataset = train_dataset.shuffle(buffer_size=1024).batch(batch_size)\r\n",
    "\r\n",
    "# Prepare the validation dataset.\r\n",
    "val_dataset = tf.data.Dataset.from_tensor_slices((x_val, y_val))\r\n",
    "val_dataset = val_dataset.batch(batch_size)"
   ],
   "outputs": [],
   "metadata": {}
  },
  {
   "cell_type": "code",
   "execution_count": 4,
   "source": [
    "\r\n",
    "epochs = 2\r\n",
    "for epoch in range(epochs):\r\n",
    "    print(\"\\nStart of epoch %d\" % (epoch,))\r\n",
    "\r\n",
    "    # Iterate over the batches of the dataset.\r\n",
    "    for step, (x_batch_train, y_batch_train) in enumerate(train_dataset):\r\n",
    "\r\n",
    "        # Open a GradientTape to record the operations run\r\n",
    "        # during the forward pass, which enables auto-differentiation.\r\n",
    "        with tf.GradientTape() as tape:\r\n",
    "\r\n",
    "            # Run the forward pass of the layer.\r\n",
    "            # The operations that the layer applies\r\n",
    "            # to its inputs are going to be recorded\r\n",
    "            # on the GradientTape.\r\n",
    "            logits = model(x_batch_train, training=True)  # Logits for this minibatch\r\n",
    "\r\n",
    "            # Compute the loss value for this minibatch.\r\n",
    "            loss_value = loss_fn(y_batch_train, logits)\r\n",
    "\r\n",
    "        # Use the gradient tape to automatically retrieve\r\n",
    "        # the gradients of the trainable variables with respect to the loss.\r\n",
    "        grads = tape.gradient(loss_value, model.trainable_weights)\r\n",
    "\r\n",
    "        # Run one step of gradient descent by updating\r\n",
    "        # the value of the variables to minimize the loss.\r\n",
    "        optimizer.apply_gradients(zip(grads, model.trainable_weights))\r\n",
    "\r\n",
    "        # Log every 200 batches.\r\n",
    "        if step % 200 == 0:\r\n",
    "            print(\r\n",
    "                \"Training loss (for one batch) at step %d: %.4f\"\r\n",
    "                % (step, float(loss_value))\r\n",
    "            )\r\n",
    "            print(\"Seen so far: %s samples\" % ((step + 1) * batch_size))\r\n"
   ],
   "outputs": [
    {
     "output_type": "stream",
     "name": "stdout",
     "text": [
      "\n",
      "Start of epoch 0\n",
      "Training loss (for one batch) at step 0: 90.5211\n",
      "Seen so far: 64 samples\n",
      "Training loss (for one batch) at step 200: 0.8392\n",
      "Seen so far: 12864 samples\n",
      "Training loss (for one batch) at step 400: 1.3110\n",
      "Seen so far: 25664 samples\n",
      "Training loss (for one batch) at step 600: 0.9808\n",
      "Seen so far: 38464 samples\n",
      "\n",
      "Start of epoch 1\n",
      "Training loss (for one batch) at step 0: 1.0836\n",
      "Seen so far: 64 samples\n",
      "Training loss (for one batch) at step 200: 0.8981\n",
      "Seen so far: 12864 samples\n",
      "Training loss (for one batch) at step 400: 0.9956\n",
      "Seen so far: 25664 samples\n",
      "Training loss (for one batch) at step 600: 0.5978\n",
      "Seen so far: 38464 samples\n"
     ]
    }
   ],
   "metadata": {}
  },
  {
   "cell_type": "code",
   "execution_count": null,
   "source": [
    "import CellCNN\r\n",
    "import numpy as np\r\n",
    "\r\n",
    "model = CellCNN.CellCNN((None, 1000, 2), classes=[2, 0], conv=[64,64,16])\r\n",
    "ID = CellCNN.InputData((CellCNN.Dataset(1000, center_density=0.01), CellCNN.Dataset(1000, center_density=0.99)), labels=np.array(((0,82.1),(1, 82.1))))\r\n",
    "x,y = ID.get_multi_cell_inputs(5000)\r\n",
    "model.fit(x,y)\r\n",
    "\r\n",
    "model(x[:10])\r\n",
    "y[:10]\r\n",
    "\r\n",
    "import tensorflow as tf\r\n",
    "train_dataset = tf.data.Dataset.from_tensor_slices((x,y))\r\n",
    "batch_size = 256\r\n",
    "train_dataset = train_dataset.shuffle(buffer_size=1024).batch(batch_size)\r\n"
   ],
   "outputs": [],
   "metadata": {}
  }
 ],
 "metadata": {
  "orig_nbformat": 4,
  "language_info": {
   "name": "python",
   "version": "3.7.8",
   "mimetype": "text/x-python",
   "codemirror_mode": {
    "name": "ipython",
    "version": 3
   },
   "pygments_lexer": "ipython3",
   "nbconvert_exporter": "python",
   "file_extension": ".py"
  },
  "kernelspec": {
   "name": "python3",
   "display_name": "Python 3.7.8 64-bit ('C': venv)"
  },
  "interpreter": {
   "hash": "412628a94b9961bb2595e02f6dacfcc8a205d88f34c27fe9187cbad7b73974bb"
  }
 },
 "nbformat": 4,
 "nbformat_minor": 2
}