{
 "cells": [
  {
   "cell_type": "code",
   "execution_count": null,
   "id": "922bbcec",
   "metadata": {},
   "outputs": [],
   "source": [
    "pip install /home/data/git/CellCNN"
   ]
  },
  {
   "cell_type": "code",
   "execution_count": 1,
   "id": "93210956",
   "metadata": {},
   "outputs": [
    {
     "name": "stderr",
     "output_type": "stream",
     "text": [
      "2021-11-01 12:54:56.504605: W tensorflow/stream_executor/platform/default/dso_loader.cc:64] Could not load dynamic library 'libcudart.so.11.0'; dlerror: libcudart.so.11.0: cannot open shared object file: No such file or directory\n",
      "2021-11-01 12:54:56.504656: I tensorflow/stream_executor/cuda/cudart_stub.cc:29] Ignore above cudart dlerror if you do not have a GPU set up on your machine.\n"
     ]
    }
   ],
   "source": [
    "from CellCNN import *\n",
    "import matplotlib.pyplot as plt"
   ]
  },
  {
   "cell_type": "code",
   "execution_count": 2,
   "id": "dd8267c9",
   "metadata": {},
   "outputs": [],
   "source": [
    "from CellCNN import *\n",
    "d1 = Dataset(10000, center_density=0.9)\n",
    "d2 = Dataset(10000, center_density=0.1)\n",
    "ID = InputData((d1,d2), labels = np.array(([1],[0])))\n",
    "Xt, Yt = ID.get_multi_cell_inputs(12000)\n",
    "Xv, Yv = ID.get_multi_cell_inputs(3000)"
   ]
  },
  {
   "cell_type": "code",
   "execution_count": null,
   "id": "4b052c42",
   "metadata": {},
   "outputs": [
    {
     "name": "stderr",
     "output_type": "stream",
     "text": [
      "2021-11-01 12:54:59.175906: W tensorflow/stream_executor/platform/default/dso_loader.cc:64] Could not load dynamic library 'libcuda.so.1'; dlerror: libcuda.so.1: cannot open shared object file: No such file or directory\n",
      "2021-11-01 12:54:59.175958: W tensorflow/stream_executor/cuda/cuda_driver.cc:269] failed call to cuInit: UNKNOWN ERROR (303)\n",
      "2021-11-01 12:54:59.175998: I tensorflow/stream_executor/cuda/cuda_diagnostics.cc:156] kernel driver does not appear to be running on this host (22f7af8dfb5f): /proc/driver/nvidia/version does not exist\n",
      "2021-11-01 12:54:59.176269: I tensorflow/core/platform/cpu_feature_guard.cc:142] This TensorFlow binary is optimized with oneAPI Deep Neural Network Library (oneDNN) to use the following CPU instructions in performance-critical operations:  AVX2 FMA\n",
      "To enable them in other operations, rebuild TensorFlow with the appropriate compiler flags.\n",
      "2021-11-01 12:54:59.739953: I tensorflow/compiler/mlir/mlir_graph_optimization_pass.cc:185] None of the MLIR Optimization Passes are enabled (registered 2)\n"
     ]
    },
    {
     "name": "stdout",
     "output_type": "stream",
     "text": [
      "Epoch 1/10\n",
      "40/40 [==============================] - 1s 3ms/step - loss: 2.3044 - masked_accuracy: 0.0000e+00 - accuracy: 0.0977 - binary_accuracy: 0.1029\n",
      "Epoch 2/10\n",
      "40/40 [==============================] - 0s 3ms/step - loss: 2.3030 - masked_accuracy: 0.0000e+00 - accuracy: 0.1011 - binary_accuracy: 0.1029\n",
      "Epoch 3/10\n",
      "40/40 [==============================] - 0s 3ms/step - loss: 2.3029 - masked_accuracy: 0.0000e+00 - accuracy: 0.1005 - binary_accuracy: 0.1029\n",
      "Epoch 4/10\n",
      "40/40 [==============================] - 0s 3ms/step - loss: 2.3030 - masked_accuracy: 0.0000e+00 - accuracy: 0.0998 - binary_accuracy: 0.1029\n",
      "Epoch 5/10\n",
      "40/40 [==============================] - 0s 3ms/step - loss: 2.3028 - masked_accuracy: 0.0000e+00 - accuracy: 0.0997 - binary_accuracy: 0.1029\n",
      "Epoch 6/10\n",
      "40/40 [==============================] - 0s 3ms/step - loss: 2.3028 - masked_accuracy: 0.0000e+00 - accuracy: 0.1023 - binary_accuracy: 0.1029\n",
      "Epoch 7/10\n",
      "40/40 [==============================] - 0s 3ms/step - loss: 2.3029 - masked_accuracy: 0.0000e+00 - accuracy: 0.1020 - binary_accuracy: 0.1029\n",
      "Epoch 8/10\n",
      "40/40 [==============================] - 0s 3ms/step - loss: 2.3030 - masked_accuracy: 0.0000e+00 - accuracy: 0.1029 - binary_accuracy: 0.1029\n",
      "Epoch 9/10\n",
      "40/40 [==============================] - 0s 4ms/step - loss: 2.3029 - masked_accuracy: 0.0000e+00 - accuracy: 0.1029 - binary_accuracy: 0.1029\n",
      "Epoch 10/10\n",
      "40/40 [==============================] - 0s 3ms/step - loss: 2.3029 - masked_accuracy: 0.0000e+00 - accuracy: 0.0987 - binary_accuracy: 0.1029\n",
      "0\n",
      "WARNING:tensorflow:From /opt/conda/lib/python3.9/site-packages/tensorflow/python/ops/ragged/ragged_map_ops.py:164: calling map_fn (from tensorflow.python.ops.map_fn) with dtype is deprecated and will be removed in a future version.\n",
      "Instructions for updating:\n",
      "Use fn_output_signature instead\n",
      "38/38 [==============================] - 7s 140ms/step - loss: 8.1193 - masked_accuracy: 0.3742 - accuracy: 0.6258 - binary_accuracy: 0.6258 - val_loss: 0.6764 - val_masked_accuracy: 0.4921 - val_accuracy: 0.5083 - val_binary_accuracy: 0.5083\n"
     ]
    },
    {
     "name": "stderr",
     "output_type": "stream",
     "text": [
      "2021-11-01 12:55:09.582011: W tensorflow/core/framework/cpu_allocator_impl.cc:80] Allocation of 6144000000 exceeds 10% of free system memory.\n",
      "2021-11-01 12:55:10.390340: W tensorflow/core/framework/cpu_allocator_impl.cc:80] Allocation of 6144000000 exceeds 10% of free system memory.\n",
      "2021-11-01 12:55:11.224134: W tensorflow/core/framework/cpu_allocator_impl.cc:80] Allocation of 6144000000 exceeds 10% of free system memory.\n",
      "2021-11-01 12:55:12.071237: W tensorflow/core/framework/cpu_allocator_impl.cc:80] Allocation of 6144000000 exceeds 10% of free system memory.\n",
      "2021-11-01 12:55:12.779738: W tensorflow/core/framework/cpu_allocator_impl.cc:80] Allocation of 6144000000 exceeds 10% of free system memory.\n"
     ]
    },
    {
     "name": "stdout",
     "output_type": "stream",
     "text": [
      "tf.Tensor(\n",
      "[0.0000000e+00 1.4795253e-02 1.5546152e-06 0.0000000e+00 0.0000000e+00\n",
      " 0.0000000e+00 0.0000000e+00 0.0000000e+00 0.0000000e+00 0.0000000e+00\n",
      " 0.0000000e+00 0.0000000e+00 0.0000000e+00 0.0000000e+00 0.0000000e+00\n",
      " 0.0000000e+00], shape=(16,), dtype=float32)\n",
      "1\n",
      "38/38 [==============================] - 4s 113ms/step - loss: 0.6091 - masked_accuracy: 0.2903 - accuracy: 0.7058 - binary_accuracy: 0.7058 - val_loss: 0.7010 - val_masked_accuracy: 0.4921 - val_accuracy: 0.5083 - val_binary_accuracy: 0.5083\n",
      "tf.Tensor(\n",
      "[0.0000000e+00 4.7619806e-06 0.0000000e+00 0.0000000e+00 0.0000000e+00\n",
      " 0.0000000e+00 0.0000000e+00 0.0000000e+00 0.0000000e+00 0.0000000e+00\n",
      " 0.0000000e+00 0.0000000e+00 0.0000000e+00 0.0000000e+00 0.0000000e+00\n",
      " 0.0000000e+00], shape=(16,), dtype=float32)\n",
      "2\n",
      "18/38 [=============>................] - ETA: 1s - loss: 0.4277 - masked_accuracy: 0.0677 - accuracy: 0.9323 - binary_accuracy: 0.9323"
     ]
    }
   ],
   "source": [
    "m = CellCNN((None, 1000, 2), conv=[128,128,16], l1_weight=1e-7, classes = [2,])\n",
    "x = 10\n",
    "m.init_random(Xt[:10])\n",
    "for j in range(x):\n",
    "    print(j)\n",
    "    Xtb = Xt[Xt.shape[0]//x*j:Xt.shape[0]//x*(j+1)]\n",
    "    Ytb = [Yt[i][Yt[i].shape[0]//x*j:Yt[i].shape[0]//x*(j+1)] for i in range(1)]\n",
    "    m.fit(Xtb,Ytb, validation_data=(Xv,Yv), epochs = 1)\n",
    "    sm = m.get_single_cell_model()\n",
    "    cells = Xt.reshape(-1,2)\n",
    "    res = sm(cells)\n",
    "    print(tf.reduce_mean(res, 0))\n",
    "for i in range(16):\n",
    "    plt.scatter(cells[:,0], cells[:,1], c=res[:,i])\n",
    "    plt.show()"
   ]
  },
  {
   "cell_type": "code",
   "execution_count": null,
   "id": "d8f1eb56",
   "metadata": {},
   "outputs": [],
   "source": [
    "cells = Xv.reshape(3000000,2)\n",
    "res = sm(cells)\n",
    "print(tf.reduce_mean(res, 0))"
   ]
  },
  {
   "cell_type": "code",
   "execution_count": null,
   "id": "4c73c5ca",
   "metadata": {},
   "outputs": [],
   "source": [
    "sm = m.get_single_cell_model()\n",
    "cells = Xv.reshape(3000000,2)[:10000]\n",
    "res = sm(cells)\n",
    "print(tf.reduce_mean(res, 0))"
   ]
  },
  {
   "cell_type": "code",
   "execution_count": null,
   "id": "ca85261d",
   "metadata": {},
   "outputs": [],
   "source": [
    "\n",
    "for i in range(16):\n",
    "    plt.scatter(cells[:,0], cells[:,1], c=res[:,i])\n",
    "    plt.show()"
   ]
  },
  {
   "cell_type": "code",
   "execution_count": null,
   "id": "1a0ee110",
   "metadata": {},
   "outputs": [],
   "source": [
    "from CellCNN import *\n",
    "import matplotlib.pyplot as plt\n",
    "import numpy as np\n",
    "\n",
    "from CellCNN import *\n",
    "d1 = Dataset(100000, center_density=0.9)\n",
    "d2 = Dataset(100000, center_density=0.1)\n",
    "d1.data += 2\n",
    "ID = InputData((d1,d2), labels = np.array(([1,5,2],[0,10,1])))\n",
    "Xt, Yt = ID.get_multi_cell_inputs(12000)\n",
    "Xv, Yv = ID.get_multi_cell_inputs(3000)\n",
    "\n",
    "print(np.sum(res!=0,0)/res.shape[0]*100)\n",
    "print(res.shape)\n",
    "\n",
    "m.loss[0]\n",
    "\n",
    "done=False\n",
    "while not done:\n",
    "    m = CellCNN((None, 1000, 2), conv=[64,64,16], l1_weight=1e-11, classes = [2,0,3])\n",
    "    x = 10\n",
    "    epochs = 1\n",
    "    m.init_random(Xt[:10])\n",
    "    values = []\n",
    "    best_loss = float(0)\n",
    "    for j in range(x):\n",
    "        print(j)\n",
    "        perm = np.random.permutation(Xt.shape[0])\n",
    "        Xtb = Xt[perm]\n",
    "        Ytb = [Yt[i][perm] for i in range(3)]\n",
    "        cb = m.fit(Xtb,Ytb, validation_data=(Xv,Yv), epochs = epochs)\n",
    "        sm = m.get_single_cell_model()\n",
    "        # cells = Xt.reshape(-1,2)\n",
    "        cells = Xv.reshape(Xv.shape[0]*Xv.shape[1],2)[:5000]\n",
    "        res = sm(cells)\n",
    "        values.append(tf.reduce_mean(res, 0))\n",
    "        if cb.history[\"val_output_1_accuracy\"][-1] > 0.8:\n",
    "            best_loss = cb.history[\"val_output_1_accuracy\"][-1]\n",
    "            best_weights = m.get_weights()\n",
    "            best_j = j\n",
    "            done = True\n",
    "            break\n",
    "print(f\"best_j = {best_j}\")\n",
    "m.set_weights(best_weights)\n",
    "for i in range(16):\n",
    "    if np.sum(res[:,i])>0:\n",
    "        print(f\"Filter {i}:\")\n",
    "        plt.scatter(cells[:,0], cells[:,1], c=res[:,i])\n",
    "        plt.show()\n",
    "    else:\n",
    "        print(f\"Filter {i} SKIPPED.\")\n",
    "\n",
    "cells = Xt.reshape(Xt.shape[0]*Xt.shape[1],2)[:5000]\n",
    "res = sm(cells)\n",
    "for i in range(16):\n",
    "    if np.sum(res[:,i])>0:\n",
    "        print(f\"Filter {i}:\")\n",
    "        plt.scatter(cells[:,0], cells[:,1], c=res[:,i])\n",
    "        plt.show()\n",
    "    else:\n",
    "        print(f\"Filter {i} SKIPPED.\")\n",
    "\n",
    "for j in range(x):\n",
    "    print(j)\n",
    "    Xtb = Xt[Xt.shape[0]//x*j:Xt.shape[0]//x*(j+1)]\n",
    "    Ytb = [Yt[i][Yt[i].shape[0]//x*j:Yt[i].shape[0]//x*(j+1)] for i in range(1)]\n",
    "    cb = m.fit(Xtb,Ytb, validation_data=(Xv,Yv), epochs = 1)\n",
    "    sm = m.get_single_cell_model()\n",
    "    # cells = Xt.reshape(-1,2)\n",
    "    cells = Xv.reshape(3000000,2)[:5000]\n",
    "    res = sm(cells)\n",
    "    values.append(tf.reduce_mean(res, 0))\n",
    "    if cb.history[\"val_loss\"][-1] < best_loss:\n",
    "        best_loss = cb.history[\"val_loss\"][-1]\n",
    "        best_weights = m.get_weights()\n",
    "        best_j = j\n",
    "m.set_weights(best_weights)\n",
    "plt.plot(values)\n",
    "plt.legend(list(range(16)), loc='upper right', bbox_to_anchor=(1.5, 1.05),\n",
    "          ncol=3, fancybox=True, shadow=True)\n",
    "print(values[-1])\n",
    "plt.show()\n",
    "\n",
    "for i in range(16):\n",
    "    if np.sum(res[:,i])>0:\n",
    "        print(f\"Filter {i}:\")\n",
    "        plt.scatter(cells[:,0], cells[:,1], c=res[:,i])\n",
    "        plt.show()\n",
    "    else:\n",
    "        print(f\"Filter {i} SKIPPED.\")\n",
    "\n",
    "cells = Xv.reshape(3000000,2)\n",
    "res = sm(cells)\n",
    "print(tf.reduce_mean(res, 0))\n",
    "\n",
    "sm = m.get_single_cell_model()\n",
    "cells = Xv.reshape(3000000,2)[:5000]\n",
    "res = sm(cells)\n",
    "print(tf.reduce_mean(res, 0))\n",
    "\n",
    "for i in range(16):\n",
    "    plt.scatter(cells[:,0], cells[:,1], c=res[:,i])\n",
    "    plt.show()\n",
    "\n",
    "x = tf.constant(3.0)\n",
    "with tf.GradientTape() as g:\n",
    "  y = x * x\n",
    "dy_dx = g.gradient(y, x)\n",
    "print(dy_dx)"
   ]
  }
 ],
 "metadata": {
  "kernelspec": {
   "display_name": "Python 3 (ipykernel)",
   "language": "python",
   "name": "python3"
  },
  "language_info": {
   "codemirror_mode": {
    "name": "ipython",
    "version": 3
   },
   "file_extension": ".py",
   "mimetype": "text/x-python",
   "name": "python",
   "nbconvert_exporter": "python",
   "pygments_lexer": "ipython3",
   "version": "3.9.7"
  }
 },
 "nbformat": 4,
 "nbformat_minor": 5
}
