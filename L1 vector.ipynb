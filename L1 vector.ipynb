{
 "cells": [
  {
   "cell_type": "code",
   "execution_count": null,
   "id": "922bbcec",
   "metadata": {},
   "outputs": [],
   "source": [
    "pip install /clip/Samuel_workdir/git/CellCNN"
   ]
  },
  {
   "cell_type": "code",
   "execution_count": null,
   "id": "93210956",
   "metadata": {},
   "outputs": [],
   "source": [
    "from CellCNN import *\n",
    "import matplotlib.pyplot as plt"
   ]
  },
  {
   "cell_type": "code",
   "execution_count": null,
   "id": "dd8267c9",
   "metadata": {},
   "outputs": [],
   "source": [
    "from CellCNN import *\n",
    "d1 = Dataset(10000),\n",
    "( center_density=0.9)\n",
    "d1.data += 2\n",
    "d2 = Dataset(10000, center_density=0.1)\n",
    "ID = InputData((d1,d2), labels = np.array(([1,5],[0,0])))\n",
    "Xt, Yt = ID.get_multi_cell_inputs(12000)\n",
    "Xv, Yv = ID.get_multi_cell_inputs(3000)"
   ]
  },
  {
   "cell_type": "code",
   "execution_count": null,
   "id": "4b052c42",
   "metadata": {},
   "outputs": [],
   "source": [
    "m = CellCNN((None, 1000, 2), conv=[128,16], l1_weight=0, classes = [2,0])\n",
    "m.run_eagerly=True\n",
    "x = 1\n",
    "m.init_random(Xt[:10])\n",
    "for j in range(x):\n",
    "    print(j)\n",
    "    # Xtb = Xt[Xt.shape[0]//x*j:Xt.shape[0]//x*(j+1)]\n",
    "    # Ytb = [Yt[i][Yt[i].shape[0]//x*j:Yt[i].shape[0]//x*(j+1)] for i in range(1)]\n",
    "    m.fit(Xt,Yt, validation_data=(Xv,Yv), epochs = 1)\n",
    "    sm = m.get_single_cell_model()\n",
    "    cells = Xt.reshape(-1,2)[:10000]\n",
    "    res = sm(cells)\n",
    "for i in range(16):\n",
    "    if(tf.reduce_mean(res, 0)[i]>0):\n",
    "        print(f\"filter: {i}\")\n",
    "        plt.scatter(cells[:,0], cells[:,1], c=res[:,i])\n",
    "        plt.show()\n",
    "    else:\n",
    "        print(f\"filter {i} SKIPPED\")"
   ]
  },
  {
   "cell_type": "code",
   "execution_count": null,
   "id": "1a353959",
   "metadata": {},
   "outputs": [],
   "source": [
    "tf.math.reduce_sum([tf.ones(10) for _ in range(10)])"
   ]
  },
  {
   "cell_type": "code",
   "execution_count": null,
   "id": "d8f1eb56",
   "metadata": {},
   "outputs": [],
   "source": [
    "cells = Xv.reshape(3000000,2)\n",
    "res = sm(cells)\n",
    "print(tf.reduce_mean(res, 0))"
   ]
  },
  {
   "cell_type": "code",
   "execution_count": null,
   "id": "4c73c5ca",
   "metadata": {},
   "outputs": [],
   "source": [
    "sm = m.get_single_cell_model()\n",
    "cells = Xv.reshape(3000000,2)[:10000]\n",
    "res = sm(cells)\n",
    "print(tf.reduce_mean(res, 0))"
   ]
  },
  {
   "cell_type": "code",
   "execution_count": null,
   "id": "ca85261d",
   "metadata": {},
   "outputs": [],
   "source": [
    "\n",
    "for i in range(16):\n",
    "    plt.scatter(cells[:,0], cells[:,1], c=res[:,i])\n",
    "    plt.show()"
   ]
  },
  {
   "cell_type": "code",
   "execution_count": null,
   "id": "1a0ee110",
   "metadata": {},
   "outputs": [],
   "source": [
    "from CellCNN import *\n",
    "import matplotlib.pyplot as plt\n",
    "import numpy as np\n",
    "\n",
    "from CellCNN import *\n",
    "d1 = Dataset(100000, center_density=0.9)\n",
    "d2 = Dataset(100000, center_density=0.1)\n",
    "d1.data += 2\n",
    "ID = InputData((d1,d2), labels = np.array(([1,5,2],[0,10,1])))\n",
    "Xt, Yt = ID.get_multi_cell_inputs(12000)\n",
    "Xv, Yv = ID.get_multi_cell_inputs(3000)\n",
    "\n",
    "print(np.sum(res!=0,0)/res.shape[0]*100)\n",
    "print(res.shape)\n",
    "\n",
    "m.loss[0]\n",
    "\n",
    "done=False\n",
    "while not done:\n",
    "    m = CellCNN((None, 1000, 2), conv=[64,64,16], l1_weight=1e-11, classes = [2,0,3])\n",
    "    x = 10\n",
    "    epochs = 1\n",
    "    m.init_random(Xt[:10])\n",
    "    values = []\n",
    "    best_loss = float(0)\n",
    "    for j in range(x):\n",
    "        print(j)\n",
    "        perm = np.random.permutation(Xt.shape[0])\n",
    "        Xtb = Xt[perm]\n",
    "        Ytb = [Yt[i][perm] for i in range(3)]\n",
    "        cb = m.fit(Xtb,Ytb, validation_data=(Xv,Yv), epochs = epochs)\n",
    "        sm = m.get_single_cell_model()\n",
    "        # cells = Xt.reshape(-1,2)\n",
    "        cells = Xv.reshape(Xv.shape[0]*Xv.shape[1],2)[:5000]\n",
    "        res = sm(cells)\n",
    "        values.append(tf.reduce_mean(res, 0))\n",
    "        if cb.history[\"val_output_1_accuracy\"][-1] > 0.8:\n",
    "            best_loss = cb.history[\"val_output_1_accuracy\"][-1]\n",
    "            best_weights = m.get_weights()\n",
    "            best_j = j\n",
    "            done = True\n",
    "            break\n",
    "print(f\"best_j = {best_j}\")\n",
    "m.set_weights(best_weights)\n",
    "for i in range(16):\n",
    "    if np.sum(res[:,i])>0:\n",
    "        print(f\"Filter {i}:\")\n",
    "        plt.scatter(cells[:,0], cells[:,1], c=res[:,i])\n",
    "        plt.show()\n",
    "    else:\n",
    "        print(f\"Filter {i} SKIPPED.\")\n",
    "\n",
    "cells = Xt.reshape(Xt.shape[0]*Xt.shape[1],2)[:5000]\n",
    "res = sm(cells)\n",
    "for i in range(16):\n",
    "    if np.sum(res[:,i])>0:\n",
    "        print(f\"Filter {i}:\")\n",
    "        plt.scatter(cells[:,0], cells[:,1], c=res[:,i])\n",
    "        plt.show()\n",
    "    else:\n",
    "        print(f\"Filter {i} SKIPPED.\")\n",
    "\n",
    "for j in range(x):\n",
    "    print(j)\n",
    "    Xtb = Xt[Xt.shape[0]//x*j:Xt.shape[0]//x*(j+1)]\n",
    "    Ytb = [Yt[i][Yt[i].shape[0]//x*j:Yt[i].shape[0]//x*(j+1)] for i in range(1)]\n",
    "    cb = m.fit(Xtb,Ytb, validation_data=(Xv,Yv), epochs = 1)\n",
    "    sm = m.get_single_cell_model()\n",
    "    # cells = Xt.reshape(-1,2)\n",
    "    cells = Xv.reshape(3000000,2)[:5000]\n",
    "    res = sm(cells)\n",
    "    values.append(tf.reduce_mean(res, 0))\n",
    "    if cb.history[\"val_loss\"][-1] < best_loss:\n",
    "        best_loss = cb.history[\"val_loss\"][-1]\n",
    "        best_weights = m.get_weights()\n",
    "        best_j = j\n",
    "m.set_weights(best_weights)\n",
    "plt.plot(values)\n",
    "plt.legend(list(range(16)), loc='upper right', bbox_to_anchor=(1.5, 1.05),\n",
    "          ncol=3, fancybox=True, shadow=True)\n",
    "print(values[-1])\n",
    "plt.show()\n",
    "\n",
    "for i in range(16):\n",
    "    if np.sum(res[:,i])>0:\n",
    "        print(f\"Filter {i}:\")\n",
    "        plt.scatter(cells[:,0], cells[:,1], c=res[:,i])\n",
    "        plt.show()\n",
    "    else:\n",
    "        print(f\"Filter {i} SKIPPED.\")\n",
    "\n",
    "cells = Xv.reshape(3000000,2)\n",
    "res = sm(cells)\n",
    "print(tf.reduce_mean(res, 0))\n",
    "\n",
    "sm = m.get_single_cell_model()\n",
    "cells = Xv.reshape(3000000,2)[:5000]\n",
    "res = sm(cells)\n",
    "print(tf.reduce_mean(res, 0))\n",
    "\n",
    "for i in range(16):\n",
    "    plt.scatter(cells[:,0], cells[:,1], c=res[:,i])\n",
    "    plt.show()\n",
    "\n",
    "x = tf.constant(3.0)\n",
    "with tf.GradientTape() as g:\n",
    "  y = x * x\n",
    "dy_dx = g.gradient(y, x)\n",
    "print(dy_dx)"
   ]
  },
  {
   "cell_type": "code",
   "execution_count": null,
   "id": "c53b700c",
   "metadata": {},
   "outputs": [],
   "source": [
    "y_true = tf.constant((1,0,1,2,1,2,-1))[:,None]\n",
    "y_pred = tf.constant(((0.,0.9,0.1),\n",
    "            (0.9,0.1,0.),\n",
    "            (0.,0.9,0.1),\n",
    "            (0.,0.1,0.9),\n",
    "            (0.,0.9,0.1),\n",
    "            (0.,0.1,0.9),\n",
    "            (0.9,0.1,0.)))\n",
    "mask = K.cast(K.not_equal(y_true, -1), \"bool\")\n",
    "y_true = K.cast(y_true, K.floatx())\n",
    "y_pred = K.cast(y_pred, K.floatx())\n",
    "\n",
    "y_true_masked = tf.ragged.boolean_mask(y_true, mask[:,0])\n",
    "y_pred_masked = tf.ragged.boolean_mask(y_pred, mask[:,0])\n",
    "print( tf.keras.losses.sparse_categorical_crossentropy(y_true_masked, y_pred_masked))"
   ]
  },
  {
   "cell_type": "code",
   "execution_count": 19,
   "id": "871c15c6",
   "metadata": {},
   "outputs": [
    {
     "data": {
      "text/plain": [
       "<tf.Tensor: shape=(7, 3), dtype=float32, numpy=\n",
       "array([[0. , 0.9, 0.1],\n",
       "       [0.9, 0.1, 0. ],\n",
       "       [0. , 0.9, 0.1],\n",
       "       [0. , 0.1, 0.9],\n",
       "       [0. , 0.9, 0.1],\n",
       "       [0. , 0.1, 0.9],\n",
       "       [0.9, 0.1, 0. ]], dtype=float32)>"
      ]
     },
     "execution_count": 19,
     "metadata": {},
     "output_type": "execute_result"
    }
   ],
   "source": [
    "tf.constant(((0.,0.9,0.1),\n",
    "(0.9,0.1,0.),\n",
    "(0.,0.9,0.1),\n",
    "(0.,0.1,0.9),\n",
    "(0.,0.9,0.1),\n",
    "(0.,0.1,0.9),\n",
    "(0.9,0.1,0.)))\n"
   ]
  }
 ],
 "metadata": {
  "kernelspec": {
   "display_name": "Python 3 (ipykernel)",
   "language": "python",
   "name": "python3"
  },
  "language_info": {
   "codemirror_mode": {
    "name": "ipython",
    "version": 3
   },
   "file_extension": ".py",
   "mimetype": "text/x-python",
   "name": "python",
   "nbconvert_exporter": "python",
   "pygments_lexer": "ipython3",
   "version": "3.9.7"
  }
 },
 "nbformat": 4,
 "nbformat_minor": 5
}
