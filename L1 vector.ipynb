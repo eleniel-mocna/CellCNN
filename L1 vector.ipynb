{
 "cells": [
  {
   "cell_type": "code",
   "execution_count": null,
   "id": "922bbcec",
   "metadata": {},
   "outputs": [],
   "source": [
    "pip install /clip/Samuel_workdir/git/CellCNN"
   ]
  },
  {
   "cell_type": "code",
   "execution_count": 1,
   "id": "93210956",
   "metadata": {},
   "outputs": [
    {
     "name": "stderr",
     "output_type": "stream",
     "text": [
      "2021-12-10 09:32:38.106431: W tensorflow/stream_executor/platform/default/dso_loader.cc:64] Could not load dynamic library 'libcudart.so.11.0'; dlerror: libcudart.so.11.0: cannot open shared object file: No such file or directory\n",
      "2021-12-10 09:32:38.106513: I tensorflow/stream_executor/cuda/cudart_stub.cc:29] Ignore above cudart dlerror if you do not have a GPU set up on your machine.\n"
     ]
    }
   ],
   "source": [
    "from CellCNN import *\n",
    "import matplotlib.pyplot as plt"
   ]
  },
  {
   "cell_type": "code",
   "execution_count": 2,
   "id": "dd8267c9",
   "metadata": {},
   "outputs": [],
   "source": [
    "from CellCNN import *\n",
    "d1 = Dataset(10000, center_density=0.9)\n",
    "d1.data += 2\n",
    "d2 = Dataset(10000, center_density=0.1)\n",
    "ID = InputData((d1,d2), labels = np.array(([1,5,2],[0,0,1])))\n",
    "Xt, Yt = ID.get_multi_cell_inputs(12000)\n",
    "Xv, Yv = ID.get_multi_cell_inputs(3000)"
   ]
  },
  {
   "cell_type": "code",
   "execution_count": 6,
   "id": "4b052c42",
   "metadata": {},
   "outputs": [
    {
     "name": "stdout",
     "output_type": "stream",
     "text": [
      "Epoch 1/10\n",
      "40/40 [==============================] - 2s 5ms/step - loss: 2.2990 - masked_accuracy: 0.0000e+00 - accuracy: 0.0995 - binary_accuracy: 0.0000e+00 - regu_loss: 0.0000e+00 - regu_grad: nan\n",
      "Epoch 2/10\n",
      "40/40 [==============================] - 0s 5ms/step - loss: 2.3125 - masked_accuracy: 0.0000e+00 - accuracy: 0.1014 - binary_accuracy: 0.0000e+00 - regu_loss: 0.0000e+00 - regu_grad: nan\n",
      "Epoch 3/10\n",
      "40/40 [==============================] - 0s 5ms/step - loss: 2.3076 - masked_accuracy: 0.0000e+00 - accuracy: 0.1021 - binary_accuracy: 0.0000e+00 - regu_loss: 0.0000e+00 - regu_grad: nan\n",
      "Epoch 4/10\n",
      "40/40 [==============================] - 0s 5ms/step - loss: 2.2994 - masked_accuracy: 0.0000e+00 - accuracy: 0.0985 - binary_accuracy: 0.0000e+00 - regu_loss: 0.0000e+00 - regu_grad: nan\n",
      "Epoch 5/10\n",
      "40/40 [==============================] - 0s 5ms/step - loss: 2.3108 - masked_accuracy: 0.0000e+00 - accuracy: 0.0958 - binary_accuracy: 0.0000e+00 - regu_loss: 0.0000e+00 - regu_grad: nan\n",
      "Epoch 6/10\n",
      "40/40 [==============================] - 0s 5ms/step - loss: 2.3018 - masked_accuracy: 0.0000e+00 - accuracy: 0.0969 - binary_accuracy: 0.0000e+00 - regu_loss: 0.0000e+00 - regu_grad: nan\n",
      "Epoch 7/10\n",
      "40/40 [==============================] - 0s 5ms/step - loss: 2.3051 - masked_accuracy: 0.0000e+00 - accuracy: 0.0989 - binary_accuracy: 0.0000e+00 - regu_loss: 0.0000e+00 - regu_grad: nan\n",
      "Epoch 8/10\n",
      "40/40 [==============================] - 0s 5ms/step - loss: 2.2965 - masked_accuracy: 0.0000e+00 - accuracy: 0.0974 - binary_accuracy: 0.0000e+00 - regu_loss: 0.0000e+00 - regu_grad: nan\n",
      "Epoch 9/10\n",
      "40/40 [==============================] - 0s 5ms/step - loss: 2.3089 - masked_accuracy: 0.0000e+00 - accuracy: 0.0952 - binary_accuracy: 0.0000e+00 - regu_loss: 0.0000e+00 - regu_grad: nan\n",
      "Epoch 10/10\n",
      "40/40 [==============================] - 0s 5ms/step - loss: 2.3146 - masked_accuracy: 0.0000e+00 - accuracy: 0.1022 - binary_accuracy: 0.0000e+00 - regu_loss: 0.0000e+00 - regu_grad: nan\n",
      "0\n"
     ]
    },
    {
     "name": "stderr",
     "output_type": "stream",
     "text": [
      "Traceback (most recent call last):\n",
      "  File \"_pydevd_bundle/pydevd_cython.pyx\", line 563, in _pydevd_bundle.pydevd_cython.PyDBFrame._handle_exception\n",
      "  File \"_pydevd_bundle/pydevd_cython.pyx\", line 297, in _pydevd_bundle.pydevd_cython.PyDBFrame.do_wait_suspend\n",
      "  File \"/opt/conda/lib/python3.9/site-packages/debugpy/_vendored/pydevd/pydevd.py\", line 1976, in do_wait_suspend\n",
      "    keep_suspended = self._do_wait_suspend(thread, frame, event, arg, suspend_type, from_this_thread, frames_tracker)\n",
      "  File \"/opt/conda/lib/python3.9/site-packages/debugpy/_vendored/pydevd/pydevd.py\", line 2011, in _do_wait_suspend\n",
      "    time.sleep(0.01)\n",
      "KeyboardInterrupt\n"
     ]
    },
    {
     "ename": "ValueError",
     "evalue": "in user code:\n\n    File \"/opt/conda/lib/python3.9/site-packages/keras/engine/training.py\", line 878, in train_function  *\n        return step_function(self, iterator)\n    File \"/clip/Samuel_workdir/git/CellCNN/CellCNN/Models.py\", line 357, in sparse_categorical_masked_loss  *\n        y_pred_masked = y_pred[mask]\n\n    ValueError: Shapes (32, 3) and (32, 1) are incompatible\n",
     "output_type": "error",
     "traceback": [
      "\u001b[0;31m---------------------------------------------------------------------------\u001b[0m",
      "\u001b[0;31mValueError\u001b[0m                                Traceback (most recent call last)",
      "\u001b[0;32m/tmp/ipykernel_13176/2039289408.py\u001b[0m in \u001b[0;36m<module>\u001b[0;34m\u001b[0m\n\u001b[1;32m      7\u001b[0m     \u001b[0;31m# Xtb = Xt[Xt.shape[0]//x*j:Xt.shape[0]//x*(j+1)]\u001b[0m\u001b[0;34m\u001b[0m\u001b[0;34m\u001b[0m\u001b[0m\n\u001b[1;32m      8\u001b[0m     \u001b[0;31m# Ytb = [Yt[i][Yt[i].shape[0]//x*j:Yt[i].shape[0]//x*(j+1)] for i in range(1)]\u001b[0m\u001b[0;34m\u001b[0m\u001b[0;34m\u001b[0m\u001b[0m\n\u001b[0;32m----> 9\u001b[0;31m     \u001b[0mm\u001b[0m\u001b[0;34m.\u001b[0m\u001b[0mfit\u001b[0m\u001b[0;34m(\u001b[0m\u001b[0mXt\u001b[0m\u001b[0;34m,\u001b[0m\u001b[0mYt\u001b[0m\u001b[0;34m,\u001b[0m \u001b[0mvalidation_data\u001b[0m\u001b[0;34m=\u001b[0m\u001b[0;34m(\u001b[0m\u001b[0mXv\u001b[0m\u001b[0;34m,\u001b[0m\u001b[0mYv\u001b[0m\u001b[0;34m)\u001b[0m\u001b[0;34m,\u001b[0m \u001b[0mepochs\u001b[0m \u001b[0;34m=\u001b[0m \u001b[0;36m1\u001b[0m\u001b[0;34m)\u001b[0m\u001b[0;34m\u001b[0m\u001b[0;34m\u001b[0m\u001b[0m\n\u001b[0m\u001b[1;32m     10\u001b[0m     \u001b[0msm\u001b[0m \u001b[0;34m=\u001b[0m \u001b[0mm\u001b[0m\u001b[0;34m.\u001b[0m\u001b[0mget_single_cell_model\u001b[0m\u001b[0;34m(\u001b[0m\u001b[0;34m)\u001b[0m\u001b[0;34m\u001b[0m\u001b[0;34m\u001b[0m\u001b[0m\n\u001b[1;32m     11\u001b[0m     \u001b[0mcells\u001b[0m \u001b[0;34m=\u001b[0m \u001b[0mXt\u001b[0m\u001b[0;34m.\u001b[0m\u001b[0mreshape\u001b[0m\u001b[0;34m(\u001b[0m\u001b[0;34m-\u001b[0m\u001b[0;36m1\u001b[0m\u001b[0;34m,\u001b[0m\u001b[0;36m2\u001b[0m\u001b[0;34m)\u001b[0m\u001b[0;34m[\u001b[0m\u001b[0;34m:\u001b[0m\u001b[0;36m10000\u001b[0m\u001b[0;34m]\u001b[0m\u001b[0;34m\u001b[0m\u001b[0;34m\u001b[0m\u001b[0m\n",
      "\u001b[0;32m/opt/conda/lib/python3.9/site-packages/keras/utils/traceback_utils.py\u001b[0m in \u001b[0;36merror_handler\u001b[0;34m(*args, **kwargs)\u001b[0m\n\u001b[1;32m     65\u001b[0m     \u001b[0;32mexcept\u001b[0m \u001b[0mException\u001b[0m \u001b[0;32mas\u001b[0m \u001b[0me\u001b[0m\u001b[0;34m:\u001b[0m  \u001b[0;31m# pylint: disable=broad-except\u001b[0m\u001b[0;34m\u001b[0m\u001b[0;34m\u001b[0m\u001b[0m\n\u001b[1;32m     66\u001b[0m       \u001b[0mfiltered_tb\u001b[0m \u001b[0;34m=\u001b[0m \u001b[0m_process_traceback_frames\u001b[0m\u001b[0;34m(\u001b[0m\u001b[0me\u001b[0m\u001b[0;34m.\u001b[0m\u001b[0m__traceback__\u001b[0m\u001b[0;34m)\u001b[0m\u001b[0;34m\u001b[0m\u001b[0;34m\u001b[0m\u001b[0m\n\u001b[0;32m---> 67\u001b[0;31m       \u001b[0;32mraise\u001b[0m \u001b[0me\u001b[0m\u001b[0;34m.\u001b[0m\u001b[0mwith_traceback\u001b[0m\u001b[0;34m(\u001b[0m\u001b[0mfiltered_tb\u001b[0m\u001b[0;34m)\u001b[0m \u001b[0;32mfrom\u001b[0m \u001b[0;32mNone\u001b[0m\u001b[0;34m\u001b[0m\u001b[0;34m\u001b[0m\u001b[0m\n\u001b[0m\u001b[1;32m     68\u001b[0m     \u001b[0;32mfinally\u001b[0m\u001b[0;34m:\u001b[0m\u001b[0;34m\u001b[0m\u001b[0;34m\u001b[0m\u001b[0m\n\u001b[1;32m     69\u001b[0m       \u001b[0;32mdel\u001b[0m \u001b[0mfiltered_tb\u001b[0m\u001b[0;34m\u001b[0m\u001b[0;34m\u001b[0m\u001b[0m\n",
      "\u001b[0;32m/opt/conda/lib/python3.9/site-packages/tensorflow/python/framework/func_graph.py\u001b[0m in \u001b[0;36mautograph_handler\u001b[0;34m(*args, **kwargs)\u001b[0m\n\u001b[1;32m   1127\u001b[0m           \u001b[0;32mexcept\u001b[0m \u001b[0mException\u001b[0m \u001b[0;32mas\u001b[0m \u001b[0me\u001b[0m\u001b[0;34m:\u001b[0m  \u001b[0;31m# pylint:disable=broad-except\u001b[0m\u001b[0;34m\u001b[0m\u001b[0;34m\u001b[0m\u001b[0m\n\u001b[1;32m   1128\u001b[0m             \u001b[0;32mif\u001b[0m \u001b[0mhasattr\u001b[0m\u001b[0;34m(\u001b[0m\u001b[0me\u001b[0m\u001b[0;34m,\u001b[0m \u001b[0;34m\"ag_error_metadata\"\u001b[0m\u001b[0;34m)\u001b[0m\u001b[0;34m:\u001b[0m\u001b[0;34m\u001b[0m\u001b[0;34m\u001b[0m\u001b[0m\n\u001b[0;32m-> 1129\u001b[0;31m               \u001b[0;32mraise\u001b[0m \u001b[0me\u001b[0m\u001b[0;34m.\u001b[0m\u001b[0mag_error_metadata\u001b[0m\u001b[0;34m.\u001b[0m\u001b[0mto_exception\u001b[0m\u001b[0;34m(\u001b[0m\u001b[0me\u001b[0m\u001b[0;34m)\u001b[0m\u001b[0;34m\u001b[0m\u001b[0;34m\u001b[0m\u001b[0m\n\u001b[0m\u001b[1;32m   1130\u001b[0m             \u001b[0;32melse\u001b[0m\u001b[0;34m:\u001b[0m\u001b[0;34m\u001b[0m\u001b[0;34m\u001b[0m\u001b[0m\n\u001b[1;32m   1131\u001b[0m               \u001b[0;32mraise\u001b[0m\u001b[0;34m\u001b[0m\u001b[0;34m\u001b[0m\u001b[0m\n",
      "\u001b[0;31mValueError\u001b[0m: in user code:\n\n    File \"/opt/conda/lib/python3.9/site-packages/keras/engine/training.py\", line 878, in train_function  *\n        return step_function(self, iterator)\n    File \"/clip/Samuel_workdir/git/CellCNN/CellCNN/Models.py\", line 357, in sparse_categorical_masked_loss  *\n        y_pred_masked = y_pred[mask]\n\n    ValueError: Shapes (32, 3) and (32, 1) are incompatible\n"
     ]
    }
   ],
   "source": [
    "m = CellCNN((None, 1000, 2), conv=[128,16], l1_weight=0, classes = [2,0,3])\n",
    "m.run_eagerly=True\n",
    "x = 1\n",
    "m.init_random(Xt[:10])\n",
    "for j in range(x):\n",
    "    print(j)\n",
    "    # Xtb = Xt[Xt.shape[0]//x*j:Xt.shape[0]//x*(j+1)]\n",
    "    # Ytb = [Yt[i][Yt[i].shape[0]//x*j:Yt[i].shape[0]//x*(j+1)] for i in range(1)]\n",
    "    m.fit(Xt,Yt, validation_data=(Xv,Yv), epochs = 1)\n",
    "    sm = m.get_single_cell_model()\n",
    "    cells = Xt.reshape(-1,2)[:10000]\n",
    "    res = sm(cells)\n",
    "for i in range(16):\n",
    "    if(tf.reduce_mean(res, 0)[i]>0):\n",
    "        print(f\"filter: {i}\")\n",
    "        plt.scatter(cells[:,0], cells[:,1], c=res[:,i])\n",
    "        plt.show()\n",
    "    else:\n",
    "        print(f\"filter {i} SKIPPED\")"
   ]
  },
  {
   "cell_type": "code",
   "execution_count": null,
   "id": "1a353959",
   "metadata": {},
   "outputs": [],
   "source": [
    "a = tf.ones((32,3))\n",
    "b = tf.random.uniform((32,1))>0.5\n",
    "b[:,0]"
   ]
  },
  {
   "cell_type": "code",
   "execution_count": null,
   "id": "d8f1eb56",
   "metadata": {},
   "outputs": [],
   "source": [
    "cells = Xv.reshape(3000000,2)\n",
    "res = sm(cells)\n",
    "print(tf.reduce_mean(res, 0))"
   ]
  },
  {
   "cell_type": "code",
   "execution_count": null,
   "id": "4c73c5ca",
   "metadata": {},
   "outputs": [],
   "source": [
    "sm = m.get_single_cell_model()\n",
    "cells = Xv.reshape(3000000,2)[:10000]\n",
    "res = sm(cells)\n",
    "print(tf.reduce_mean(res, 0))"
   ]
  },
  {
   "cell_type": "code",
   "execution_count": null,
   "id": "ca85261d",
   "metadata": {},
   "outputs": [],
   "source": [
    "\n",
    "for i in range(16):\n",
    "    plt.scatter(cells[:,0], cells[:,1], c=res[:,i])\n",
    "    plt.show()"
   ]
  },
  {
   "cell_type": "code",
   "execution_count": null,
   "id": "1a0ee110",
   "metadata": {},
   "outputs": [],
   "source": [
    "from CellCNN import *\n",
    "import matplotlib.pyplot as plt\n",
    "import numpy as np\n",
    "\n",
    "from CellCNN import *\n",
    "d1 = Dataset(100000, center_density=0.9)\n",
    "d2 = Dataset(100000, center_density=0.1)\n",
    "d1.data += 2\n",
    "ID = InputData((d1,d2), labels = np.array(([1,5,2],[0,10,1])))\n",
    "Xt, Yt = ID.get_multi_cell_inputs(12000)\n",
    "Xv, Yv = ID.get_multi_cell_inputs(3000)\n",
    "\n",
    "print(np.sum(res!=0,0)/res.shape[0]*100)\n",
    "print(res.shape)\n",
    "\n",
    "m.loss[0]\n",
    "\n",
    "done=False\n",
    "while not done:\n",
    "    m = CellCNN((None, 1000, 2), conv=[64,64,16], l1_weight=1e-11, classes = [2,0,3])\n",
    "    x = 10\n",
    "    epochs = 1\n",
    "    m.init_random(Xt[:10])\n",
    "    values = []\n",
    "    best_loss = float(0)\n",
    "    for j in range(x):\n",
    "        print(j)\n",
    "        perm = np.random.permutation(Xt.shape[0])\n",
    "        Xtb = Xt[perm]\n",
    "        Ytb = [Yt[i][perm] for i in range(3)]\n",
    "        cb = m.fit(Xtb,Ytb, validation_data=(Xv,Yv), epochs = epochs)\n",
    "        sm = m.get_single_cell_model()\n",
    "        # cells = Xt.reshape(-1,2)\n",
    "        cells = Xv.reshape(Xv.shape[0]*Xv.shape[1],2)[:5000]\n",
    "        res = sm(cells)\n",
    "        values.append(tf.reduce_mean(res, 0))\n",
    "        if cb.history[\"val_output_1_accuracy\"][-1] > 0.8:\n",
    "            best_loss = cb.history[\"val_output_1_accuracy\"][-1]\n",
    "            best_weights = m.get_weights()\n",
    "            best_j = j\n",
    "            done = True\n",
    "            break\n",
    "print(f\"best_j = {best_j}\")\n",
    "m.set_weights(best_weights)\n",
    "for i in range(16):\n",
    "    if np.sum(res[:,i])>0:\n",
    "        print(f\"Filter {i}:\")\n",
    "        plt.scatter(cells[:,0], cells[:,1], c=res[:,i])\n",
    "        plt.show()\n",
    "    else:\n",
    "        print(f\"Filter {i} SKIPPED.\")\n",
    "\n",
    "cells = Xt.reshape(Xt.shape[0]*Xt.shape[1],2)[:5000]\n",
    "res = sm(cells)\n",
    "for i in range(16):\n",
    "    if np.sum(res[:,i])>0:\n",
    "        print(f\"Filter {i}:\")\n",
    "        plt.scatter(cells[:,0], cells[:,1], c=res[:,i])\n",
    "        plt.show()\n",
    "    else:\n",
    "        print(f\"Filter {i} SKIPPED.\")\n",
    "\n",
    "for j in range(x):\n",
    "    print(j)\n",
    "    Xtb = Xt[Xt.shape[0]//x*j:Xt.shape[0]//x*(j+1)]\n",
    "    Ytb = [Yt[i][Yt[i].shape[0]//x*j:Yt[i].shape[0]//x*(j+1)] for i in range(1)]\n",
    "    cb = m.fit(Xtb,Ytb, validation_data=(Xv,Yv), epochs = 1)\n",
    "    sm = m.get_single_cell_model()\n",
    "    # cells = Xt.reshape(-1,2)\n",
    "    cells = Xv.reshape(3000000,2)[:5000]\n",
    "    res = sm(cells)\n",
    "    values.append(tf.reduce_mean(res, 0))\n",
    "    if cb.history[\"val_loss\"][-1] < best_loss:\n",
    "        best_loss = cb.history[\"val_loss\"][-1]\n",
    "        best_weights = m.get_weights()\n",
    "        best_j = j\n",
    "m.set_weights(best_weights)\n",
    "plt.plot(values)\n",
    "plt.legend(list(range(16)), loc='upper right', bbox_to_anchor=(1.5, 1.05),\n",
    "          ncol=3, fancybox=True, shadow=True)\n",
    "print(values[-1])\n",
    "plt.show()\n",
    "\n",
    "for i in range(16):\n",
    "    if np.sum(res[:,i])>0:\n",
    "        print(f\"Filter {i}:\")\n",
    "        plt.scatter(cells[:,0], cells[:,1], c=res[:,i])\n",
    "        plt.show()\n",
    "    else:\n",
    "        print(f\"Filter {i} SKIPPED.\")\n",
    "\n",
    "cells = Xv.reshape(3000000,2)\n",
    "res = sm(cells)\n",
    "print(tf.reduce_mean(res, 0))\n",
    "\n",
    "sm = m.get_single_cell_model()\n",
    "cells = Xv.reshape(3000000,2)[:5000]\n",
    "res = sm(cells)\n",
    "print(tf.reduce_mean(res, 0))\n",
    "\n",
    "for i in range(16):\n",
    "    plt.scatter(cells[:,0], cells[:,1], c=res[:,i])\n",
    "    plt.show()\n",
    "\n",
    "x = tf.constant(3.0)\n",
    "with tf.GradientTape() as g:\n",
    "  y = x * x\n",
    "dy_dx = g.gradient(y, x)\n",
    "print(dy_dx)"
   ]
  },
  {
   "cell_type": "code",
   "execution_count": null,
   "id": "c53b700c",
   "metadata": {},
   "outputs": [],
   "source": [
    "y_true = tf.constant((1,0,1,2,1,2,-1))[:,None]\n",
    "y_pred = tf.constant(((0.,0.9,0.1),\n",
    "            (0.9,0.1,0.),\n",
    "            (0.,0.9,0.1),\n",
    "            (0.,0.1,0.9),\n",
    "            (0.,0.9,0.1),\n",
    "            (0.,0.1,0.9),\n",
    "            (0.9,0.1,0.)))\n",
    "mask = K.cast(K.not_equal(y_true, -1), \"bool\")\n",
    "y_true = K.cast(y_true, K.floatx())\n",
    "y_pred = K.cast(y_pred, K.floatx())\n",
    "\n",
    "y_true_masked = tf.ragged.boolean_mask(y_true, mask[:,0])\n",
    "y_pred_masked = tf.ragged.boolean_mask(y_pred, mask[:,0])\n",
    "print( tf.keras.losses.sparse_categorical_crossentropy(y_true_masked, y_pred_masked))"
   ]
  },
  {
   "cell_type": "code",
   "execution_count": null,
   "id": "871c15c6",
   "metadata": {},
   "outputs": [],
   "source": [
    "tf.constant(((0.,0.9,0.1),\n",
    "(0.9,0.1,0.),\n",
    "(0.,0.9,0.1),\n",
    "(0.,0.1,0.9),\n",
    "(0.,0.9,0.1),\n",
    "(0.,0.1,0.9),\n",
    "(0.9,0.1,0.)))\n"
   ]
  }
 ],
 "metadata": {
  "kernelspec": {
   "display_name": "Python 3 (ipykernel)",
   "language": "python",
   "name": "python3"
  },
  "language_info": {
   "codemirror_mode": {
    "name": "ipython",
    "version": 3
   },
   "file_extension": ".py",
   "mimetype": "text/x-python",
   "name": "python",
   "nbconvert_exporter": "python",
   "pygments_lexer": "ipython3",
   "version": "3.9.7"
  }
 },
 "nbformat": 4,
 "nbformat_minor": 5
}
